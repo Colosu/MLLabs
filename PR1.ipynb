{
 "cells": [
  {
   "cell_type": "markdown",
   "metadata": {},
   "source": [
    "# Lab 1 Machine Learning\n",
    "\n",
    "### Authors:\n",
    "Alfredo Ibias Martínez  \n",
    "Miguel Benito Parejo\n",
    "\n",
    "The aim of this Lab is to preprocess and audit a given dataset. In order to do so, we analyse the data to prepare it for future uses on machine learning tasks.  \n",
    "The given dataset has 32561 entries with the following variables:  \n",
    "- age\n",
    "- workclass\n",
    "- fnlwgt\n",
    "- education\n",
    "- education-num\n",
    "- marital-status\n",
    "- ocupation\n",
    "- relationship\n",
    "- race\n",
    "- sex\n",
    "- capital-gain\n",
    "- capital-loss\n",
    "- hours-per-week\n",
    "- native-country\n",
    "\n",
    "And they are classified in the following two classes:\n",
    "- <=50K\n",
    "- \\>50K"
   ]
  },
  {
   "cell_type": "markdown",
   "metadata": {},
   "source": [
    "First of all, we need to import the libraries we will use along the lab."
   ]
  },
  {
   "cell_type": "code",
   "execution_count": 8,
   "metadata": {},
   "outputs": [],
   "source": [
    "#Libraries\n",
    "\n",
    "#import numpy as np # linear algebra\n",
    "import pandas as pd # data processing, CSV file I/O (e.g. pd.read_csv)\n",
    "import sklearn as skl\n",
    "from sklearn import preprocessing\n",
    "import matplotlib.pyplot as plt"
   ]
  },
  {
   "cell_type": "markdown",
   "metadata": {},
   "source": [
    "Now, we can upload our dataset."
   ]
  },
  {
   "cell_type": "code",
   "execution_count": 9,
   "metadata": {},
   "outputs": [],
   "source": [
    "# Read Dataset\n",
    "\n",
    "dataset = pd.read_csv('./Adult_Income.txt',delimiter=',',header=0)\n",
    "#dataset\n",
    "\n",
    "# Header\n",
    "header = []\n",
    "for row in dataset:\n",
    "    header.append(row)\n",
    "#header"
   ]
  },
  {
   "cell_type": "markdown",
   "metadata": {},
   "source": [
    "Once we have upload our dataset, we face our first problem. It was what to do with unknown data.  \n",
    "As our database is large, we first decided to check how many entries lack some data. Therefore, we delete these entries from our dataset and check how many entries we still have."
   ]
  },
  {
   "cell_type": "markdown",
   "metadata": {},
   "source": [
    "First, lets see what we have."
   ]
  },
  {
   "cell_type": "code",
   "execution_count": 10,
   "metadata": {},
   "outputs": [
    {
     "name": "stdout",
     "output_type": "stream",
     "text": [
      "                age        fnlwgt   education-num   capital-gain  \\\n",
      "count  32561.000000  3.256100e+04    32561.000000   32561.000000   \n",
      "mean      38.581647  1.897784e+05       10.080679    1077.648844   \n",
      "std       13.640433  1.055500e+05        2.572720    7385.292085   \n",
      "min       17.000000  1.228500e+04        1.000000       0.000000   \n",
      "25%       28.000000  1.178270e+05        9.000000       0.000000   \n",
      "50%       37.000000  1.783560e+05       10.000000       0.000000   \n",
      "75%       48.000000  2.370510e+05       12.000000       0.000000   \n",
      "max       90.000000  1.484705e+06       16.000000   99999.000000   \n",
      "\n",
      "        capital-loss   hours-per-week         class  \n",
      "count   32561.000000     32561.000000  32561.000000  \n",
      "mean       87.303830        40.437456      0.240810  \n",
      "std       402.960219        12.347429      0.427581  \n",
      "min         0.000000         1.000000      0.000000  \n",
      "25%         0.000000        40.000000      0.000000  \n",
      "50%         0.000000        40.000000      0.000000  \n",
      "75%         0.000000        45.000000      0.000000  \n",
      "max      4356.000000        99.000000      1.000000  \n"
     ]
    }
   ],
   "source": [
    "print(dataset.describe())"
   ]
  },
  {
   "cell_type": "code",
   "execution_count": 11,
   "metadata": {},
   "outputs": [],
   "source": [
    "pos = []\n",
    "for column in dataset.columns:\n",
    "    count = 0\n",
    "    for elem in dataset[column]:\n",
    "        if elem == \" ?\":\n",
    "            dataset = dataset.drop(count)\n",
    "            pos.append(count)\n",
    "        count += 1\n",
    "        while pos.__contains__(count):\n",
    "            count += 1"
   ]
  },
  {
   "cell_type": "code",
   "execution_count": 6,
   "metadata": {},
   "outputs": [
    {
     "name": "stdout",
     "output_type": "stream",
     "text": [
      "                age        fnlwgt   education-num   capital-gain  \\\n",
      "count  30162.000000  3.016200e+04    30162.000000   30162.000000   \n",
      "mean      38.437902  1.897938e+05       10.121312    1092.007858   \n",
      "std       13.134665  1.056530e+05        2.549995    7406.346497   \n",
      "min       17.000000  1.376900e+04        1.000000       0.000000   \n",
      "25%       28.000000  1.176272e+05        9.000000       0.000000   \n",
      "50%       37.000000  1.784250e+05       10.000000       0.000000   \n",
      "75%       47.000000  2.376285e+05       13.000000       0.000000   \n",
      "max       90.000000  1.484705e+06       16.000000   99999.000000   \n",
      "\n",
      "        capital-loss   hours-per-week         class  \n",
      "count   30162.000000     30162.000000  30162.000000  \n",
      "mean       88.372489        40.931238      0.248922  \n",
      "std       404.298370        11.979984      0.432396  \n",
      "min         0.000000         1.000000      0.000000  \n",
      "25%         0.000000        40.000000      0.000000  \n",
      "50%         0.000000        40.000000      0.000000  \n",
      "75%         0.000000        45.000000      0.000000  \n",
      "max      4356.000000        99.000000      1.000000  \n"
     ]
    }
   ],
   "source": [
    "print(dataset.describe())"
   ]
  },
  {
   "cell_type": "markdown",
   "metadata": {},
   "source": [
    "As we can see, before deleting any entry we had 32561 entries, and now we left 30162 entries."
   ]
  },
  {
   "cell_type": "code",
   "execution_count": 14,
   "metadata": {},
   "outputs": [
    {
     "data": {
      "text/plain": [
       "2399"
      ]
     },
     "execution_count": 14,
     "metadata": {},
     "output_type": "execute_result"
    }
   ],
   "source": [
    "initial = 32561\n",
    "final = 30162\n",
    "deleted = initial-final\n",
    "deleted"
   ]
  },
  {
   "cell_type": "code",
   "execution_count": 13,
   "metadata": {},
   "outputs": [
    {
     "data": {
      "text/plain": [
       "0.07367709836921471"
      ]
     },
     "execution_count": 13,
     "metadata": {},
     "output_type": "execute_result"
    }
   ],
   "source": [
    "percentage = deleted/initial\n",
    "percentage"
   ]
  },
  {
   "cell_type": "markdown",
   "metadata": {},
   "source": [
    "Therefore, we have deleted 2399 entries, that are only a 7.37% of the total entries. Thus, we can assume that loss."
   ]
  },
  {
   "cell_type": "code",
   "execution_count": null,
   "metadata": {},
   "outputs": [],
   "source": []
  }
 ],
 "metadata": {
  "kernelspec": {
   "display_name": "Python 3",
   "language": "python",
   "name": "python3"
  },
  "language_info": {
   "codemirror_mode": {
    "name": "ipython",
    "version": 3
   },
   "file_extension": ".py",
   "mimetype": "text/x-python",
   "name": "python",
   "nbconvert_exporter": "python",
   "pygments_lexer": "ipython3",
   "version": "3.6.5"
  }
 },
 "nbformat": 4,
 "nbformat_minor": 2
}
